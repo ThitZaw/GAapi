{
 "cells": [
  {
   "cell_type": "code",
   "execution_count": 5,
   "metadata": {},
   "outputs": [],
   "source": [
    "import json\n",
    "import requests\n",
    "import pandas"
   ]
  },
  {
   "cell_type": "code",
   "execution_count": 6,
   "metadata": {},
   "outputs": [],
   "source": [
    "url = \"http://localhost:9000/api/ga/predict\""
   ]
  },
  {
   "cell_type": "code",
   "execution_count": 11,
   "metadata": {},
   "outputs": [],
   "source": [
    "buyer = pandas.read_csv('D:/TMD/other/buyers.csv').to_json()\n",
    "seller = pandas.read_csv('D:/TMD/other/sellers.csv').to_json()"
   ]
  },
  {
   "cell_type": "code",
   "execution_count": 38,
   "metadata": {
    "scrolled": false
   },
   "outputs": [
    {
     "data": {
      "text/plain": [
       "{'status': 200,\n",
       " 'data': [{'bestfittest': {'B1': 'S3', 'B2': 'S4', 'B3': 'S2', 'B4': 'S1'},\n",
       "   'totalsaving': 15000.0,\n",
       "   'eachsellersoldamt': {'3000.0': ['B3'], '5000.0': ['B1'], '4000.0': ['B2']},\n",
       "   'flipped': {'S3': ['B1'], 'S4': ['B2'], 'S2': ['B3'], 'S1': ['B4']},\n",
       "   'buyer_saving': {'B3': 3000.0, 'B1': 5000.0, 'B2': 4000.0}}]}"
      ]
     },
     "execution_count": 38,
     "metadata": {},
     "output_type": "execute_result"
    }
   ],
   "source": [
    "payload = {\n",
    "        \"buyer\":buyer,\n",
    "        \"seller\":seller,\n",
    "        \"termination\":10,\n",
    "        \"population_size\":20,\n",
    "        \"crossover\":0.9,\n",
    "        \"mutationRate\":0.1,\n",
    "    }\n",
    "\n",
    "resp = requests.post(url, json=payload)\n",
    "resp.json()"
   ]
  },
  {
   "cell_type": "code",
   "execution_count": null,
   "metadata": {},
   "outputs": [],
   "source": []
  },
  {
   "cell_type": "code",
   "execution_count": 39,
   "metadata": {},
   "outputs": [
    {
     "data": {
      "text/plain": [
       "{'status': 200,\n",
       " 'data': [{'bestfittest': {'B1': 'S1', 'B2': 'S3', 'B3': 'S4', 'B4': 'S2'},\n",
       "   'totalsaving': 19500.0,\n",
       "   'eachsellersoldamt': {'2000.0': ['B1'],\n",
       "    '1500.0': ['B4'],\n",
       "    '10000.0': ['B2'],\n",
       "    '6000.0': ['B3']},\n",
       "   'flipped': {'S1': ['B1'], 'S3': ['B2'], 'S4': ['B3'], 'S2': ['B4']},\n",
       "   'buyer_saving': {'B1': 2000.0, 'B4': 1500.0, 'B2': 10000.0, 'B3': 6000.0}},\n",
       "  {'bestfittest': {'B1': 'S4', 'B2': 'S3', 'B3': 'S2', 'B4': 'S1'},\n",
       "   'totalsaving': 18000.0,\n",
       "   'eachsellersoldamt': {'3000.0': ['B3'],\n",
       "    '10000.0': ['B2'],\n",
       "    '2000.0': ['B1']},\n",
       "   'flipped': {'S4': ['B1'], 'S3': ['B2'], 'S2': ['B3'], 'S1': ['B4']},\n",
       "   'buyer_saving': {'B3': 3000.0, 'B2': 10000.0, 'B1': 2000.0}}]}"
      ]
     },
     "execution_count": 39,
     "metadata": {},
     "output_type": "execute_result"
    }
   ],
   "source": [
    "payload = [{\n",
    "        \"buyer\":buyer,\n",
    "        \"seller\":seller,\n",
    "        \"termination\":10,\n",
    "        \"population_size\":20,\n",
    "        \"crossover\":0.9,\n",
    "        \"mutationRate\":0.1,\n",
    "    },{\n",
    "        \"buyer\":buyer,\n",
    "        \"seller\":seller,\n",
    "        \"termination\":10,\n",
    "        \"population_size\":20,\n",
    "        \"crossover\":0.9,\n",
    "        \"mutationRate\":0.1,\n",
    "    }]\n",
    "resp = requests.post(url, json=payload)\n",
    "resp.json()"
   ]
  },
  {
   "cell_type": "code",
   "execution_count": null,
   "metadata": {},
   "outputs": [],
   "source": []
  }
 ],
 "metadata": {
  "kernelspec": {
   "display_name": "Python 3",
   "language": "python",
   "name": "python3"
  }
 },
 "nbformat": 4,
 "nbformat_minor": 2
}
